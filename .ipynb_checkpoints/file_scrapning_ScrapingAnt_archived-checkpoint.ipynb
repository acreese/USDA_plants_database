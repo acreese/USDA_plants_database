{
 "cells": [
  {
   "cell_type": "code",
   "execution_count": null,
   "id": "closed-footwear",
   "metadata": {},
   "outputs": [],
   "source": [
    "import http.client\n",
    "\n",
    "conn = http.client.HTTPSConnection(\"api.scrapingant.com\")\n",
    "\n",
    "headers = {\n",
    "    'x-api-key': \"50aa2c5059334008b70e449e1d55009e\"\n",
    "}\n",
    "\n",
    "conn.request(\"GET\", \"/v1/general?url=https%3A%2F%2Fplants.usda.gov%2Fcsvdownload%3FplantLst%3DNRCSStateList%26nrcsstate%3DAlabama&return_text=true\", headers=headers)\n",
    "\n",
    "res = conn.getresponse()\n",
    "data = res.read()\n",
    "\n",
    "print(data.decode(\"utf-8\"))"
   ]
  },
  {
   "cell_type": "code",
   "execution_count": null,
   "id": "relative-option",
   "metadata": {},
   "outputs": [],
   "source": [
    "content = data.decode('unicode-escape').encode('latin1').decode('utf-8')\n",
    "\n",
    "content[0:200]\n",
    "\n",
    "str1 = content.replace(\"'\",\"\")\n",
    "str1[:100]\n",
    "\n",
    "str2 = str1[12:]\n",
    "str2[:100]\n",
    "\n",
    "str2[-100:]\n",
    "\n",
    "str3 = str2[:len('\",\"cookies\":\"\",\"status_code\":200}') * -1]\n",
    "str3[-100:]\n",
    "\n",
    "lines = str3.split('\\r\\n')\n",
    "\n",
    "lines\n",
    "\n",
    "lis1[0]\n",
    "\n"
   ]
  }
 ],
 "metadata": {
  "kernelspec": {
   "display_name": "Python 3",
   "language": "python",
   "name": "python3"
  },
  "language_info": {
   "codemirror_mode": {
    "name": "ipython",
    "version": 3
   },
   "file_extension": ".py",
   "mimetype": "text/x-python",
   "name": "python",
   "nbconvert_exporter": "python",
   "pygments_lexer": "ipython3",
   "version": "3.9.12"
  }
 },
 "nbformat": 4,
 "nbformat_minor": 5
}
