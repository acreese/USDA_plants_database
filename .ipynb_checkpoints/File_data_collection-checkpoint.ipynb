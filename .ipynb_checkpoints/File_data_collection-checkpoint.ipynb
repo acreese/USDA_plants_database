{
 "cells": [
  {
   "cell_type": "code",
   "execution_count": 15,
   "id": "thirty-large",
   "metadata": {},
   "outputs": [],
   "source": [
    "import requests_html\n",
    "import requests\n",
    "import pandas as pd\n",
    "\n",
    "import os\n",
    "import glob"
   ]
  },
  {
   "cell_type": "markdown",
   "id": "essential-bathroom",
   "metadata": {},
   "source": [
    "## state list"
   ]
  },
  {
   "cell_type": "markdown",
   "id": "bronze-personal",
   "metadata": {},
   "source": [
    "### Creating state list"
   ]
  },
  {
   "cell_type": "code",
   "execution_count": 2,
   "id": "close-playlist",
   "metadata": {},
   "outputs": [],
   "source": [
    "filename = 'data/states.txt'\n",
    "file = open(filename, \"r\")\n",
    "lines = file.readlines()\n",
    "\n",
    "state_list = [line.replace('\\n','') for line in lines]\n",
    "state_list = [state.replace(' ','') for state in state_list]"
   ]
  },
  {
   "cell_type": "markdown",
   "id": "sixth-tracy",
   "metadata": {},
   "source": [
    "#### Deleting previously saved state lists"
   ]
  },
  {
   "cell_type": "code",
   "execution_count": 14,
   "id": "surgical-retailer",
   "metadata": {},
   "outputs": [],
   "source": [
    "files = glob.glob('data/state_files/*.csv')\n",
    "\n",
    "for file in files: \n",
    "    try:\n",
    "        os.remove(file)\n",
    "    except OSError as e:\n",
    "        print(\"Error: %s : %s\" % (file_path, e.strerror))\n",
    "        \n",
    "#state_list"
   ]
  },
  {
   "cell_type": "markdown",
   "id": "pregnant-charge",
   "metadata": {},
   "source": [
    "### Scraping and saving state lists as .csv files"
   ]
  },
  {
   "cell_type": "code",
   "execution_count": 11,
   "id": "mounted-rally",
   "metadata": {},
   "outputs": [
    {
     "name": "stdout",
     "output_type": "stream",
     "text": [
      "No NRCS state list for AmericanSamoa\n",
      "No NRCS state list for Fed.StatesofMicronesia\n",
      "No NRCS state list for GuamMarshallIslands\n",
      "No NRCS state list for NorthernMarianaIslands\n",
      "No NRCS state list for U.S.MinorOutlyingIslands\n"
     ]
    }
   ],
   "source": [
    "state_fails = []\n",
    "\n",
    "for state in state_list:\n",
    "    try:\n",
    "        url = 'https://plants.usda.gov/assets/docs/NRCSStateList/' + state + '_NRCS_csv.txt'\n",
    "        \n",
    "        csv_file = 'data/state_files/' + state + '.csv'\n",
    "\n",
    "        read_file = pd.read_csv(url, engine='python', encoding='utf-8', on_bad_lines='skip')\n",
    "        if len(read_file) <=15: \n",
    "            print(\"No NRCS state list for\", state)\n",
    "            state_fails.append(state)\n",
    "        else: read_file.to_csv(csv_file, index=None)\n",
    "    except:\n",
    "        print(\"No NRCS state list for\", state)\n",
    "        state_fails.append(state)"
   ]
  },
  {
   "cell_type": "code",
   "execution_count": null,
   "id": "lucky-minnesota",
   "metadata": {},
   "outputs": [],
   "source": []
  }
 ],
 "metadata": {
  "kernelspec": {
   "display_name": "Python 3",
   "language": "python",
   "name": "python3"
  },
  "language_info": {
   "codemirror_mode": {
    "name": "ipython",
    "version": 3
   },
   "file_extension": ".py",
   "mimetype": "text/x-python",
   "name": "python",
   "nbconvert_exporter": "python",
   "pygments_lexer": "ipython3",
   "version": "3.9.12"
  }
 },
 "nbformat": 4,
 "nbformat_minor": 5
}
