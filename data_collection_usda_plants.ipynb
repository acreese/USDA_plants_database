{
 "cells": [
  {
   "cell_type": "code",
   "execution_count": 1,
   "id": "attached-lawyer",
   "metadata": {},
   "outputs": [],
   "source": [
    "import requests_html\n",
    "import requests\n",
    "import pandas as pd\n",
    "\n",
    "import os\n",
    "import glob"
   ]
  },
  {
   "cell_type": "markdown",
   "id": "another-lawsuit",
   "metadata": {},
   "source": [
    "### Creating state list"
   ]
  },
  {
   "cell_type": "code",
   "execution_count": 2,
   "id": "hungarian-tuner",
   "metadata": {},
   "outputs": [],
   "source": [
    "filename = 'data/states.txt'\n",
    "file = open(filename, \"r\")\n",
    "lines = file.readlines()\n",
    "\n",
    "state_list = [line.replace('\\n','') for line in lines]\n",
    "#state_list = [state.replace(' ','') for state in state_list]"
   ]
  },
  {
   "cell_type": "markdown",
   "id": "surprised-graphic",
   "metadata": {},
   "source": [
    "#### Deleting previously saved state lists"
   ]
  },
  {
   "cell_type": "code",
   "execution_count": 3,
   "id": "closing-handle",
   "metadata": {},
   "outputs": [],
   "source": [
    "files = glob.glob('data/state_files/*.csv')\n",
    "\n",
    "for file in files: \n",
    "    try:\n",
    "        os.remove(file)\n",
    "    except OSError as e:\n",
    "        print(\"Error: %s : %s\" % (file_path, e.strerror))\n",
    "        \n",
    "#state_list"
   ]
  },
  {
   "cell_type": "markdown",
   "id": "requested-hurricane",
   "metadata": {},
   "source": [
    "### Scraping and saving state lists as .csv files"
   ]
  },
  {
   "cell_type": "code",
   "execution_count": 4,
   "id": "unnecessary-reviewer",
   "metadata": {},
   "outputs": [
    {
     "name": "stdout",
     "output_type": "stream",
     "text": [
      "No NRCS state list for American Samoa\n",
      "No NRCS state list for Fed. States of Micronesia\n",
      "No NRCS state list for Guam Marshall Islands\n",
      "No NRCS state list for Northern Mariana Islands\n",
      "No NRCS state list for U.S. Minor Outlying Islands\n"
     ]
    }
   ],
   "source": [
    "state_fails = []\n",
    "\n",
    "for state in state_list:\n",
    "    state_web = state.replace(' ','')\n",
    "    try:\n",
    "        url = 'https://plants.usda.gov/assets/docs/NRCSStateList/' + state_web + '_NRCS_csv.txt'\n",
    "    \n",
    "        csv_file = 'data/state_files/' + state_web + '.csv'\n",
    "\n",
    "        read_file = pd.read_csv(url, engine='python', encoding='utf-8', on_bad_lines='skip')\n",
    "        if len(read_file) <=15: \n",
    "            print(\"No NRCS state list for\", state)\n",
    "            state_fails.append(state_web)\n",
    "        else: \n",
    "            read_file['State'] = state\n",
    "            read_file.to_csv(csv_file, index=None)\n",
    "    except:\n",
    "        print(\"No NRCS state list for\", state)\n",
    "        state_fails.append(state_web)"
   ]
  },
  {
   "cell_type": "code",
   "execution_count": 10,
   "id": "isolated-separation",
   "metadata": {},
   "outputs": [
    {
     "data": {
      "text/html": [
       "<div>\n",
       "<style scoped>\n",
       "    .dataframe tbody tr th:only-of-type {\n",
       "        vertical-align: middle;\n",
       "    }\n",
       "\n",
       "    .dataframe tbody tr th {\n",
       "        vertical-align: top;\n",
       "    }\n",
       "\n",
       "    .dataframe thead th {\n",
       "        text-align: right;\n",
       "    }\n",
       "</style>\n",
       "<table border=\"1\" class=\"dataframe\">\n",
       "  <thead>\n",
       "    <tr style=\"text-align: right;\">\n",
       "      <th></th>\n",
       "      <th>Symbol</th>\n",
       "      <th>Synonym Symbol</th>\n",
       "      <th>Scientific Name with Author</th>\n",
       "      <th>State Common Name</th>\n",
       "      <th>Family</th>\n",
       "      <th>State</th>\n",
       "    </tr>\n",
       "  </thead>\n",
       "  <tbody>\n",
       "    <tr>\n",
       "      <th>0</th>\n",
       "      <td>ABPR3</td>\n",
       "      <td>NaN</td>\n",
       "      <td>Abrus precatorius L.</td>\n",
       "      <td>rosarypea</td>\n",
       "      <td>Fabaceae</td>\n",
       "      <td>Alabama</td>\n",
       "    </tr>\n",
       "    <tr>\n",
       "      <th>1</th>\n",
       "      <td>ABPR3</td>\n",
       "      <td>ABAB2</td>\n",
       "      <td>Abrus abrus (L.) W. Wight, nom. inval.</td>\n",
       "      <td>NaN</td>\n",
       "      <td>Fabaceae</td>\n",
       "      <td>Alabama</td>\n",
       "    </tr>\n",
       "    <tr>\n",
       "      <th>2</th>\n",
       "      <td>ABRUS</td>\n",
       "      <td>NaN</td>\n",
       "      <td>Abrus Adans.</td>\n",
       "      <td>abrus</td>\n",
       "      <td>Fabaceae</td>\n",
       "      <td>Alabama</td>\n",
       "    </tr>\n",
       "    <tr>\n",
       "      <th>3</th>\n",
       "      <td>ABTH</td>\n",
       "      <td>NaN</td>\n",
       "      <td>Abutilon theophrasti Medik.</td>\n",
       "      <td>velvetleaf</td>\n",
       "      <td>Malvaceae</td>\n",
       "      <td>Alabama</td>\n",
       "    </tr>\n",
       "    <tr>\n",
       "      <th>4</th>\n",
       "      <td>ABTH</td>\n",
       "      <td>ABAB3</td>\n",
       "      <td>Abutilon abutilon (L.) Rusby, nom. inval.</td>\n",
       "      <td>NaN</td>\n",
       "      <td>Malvaceae</td>\n",
       "      <td>Alabama</td>\n",
       "    </tr>\n",
       "    <tr>\n",
       "      <th>...</th>\n",
       "      <td>...</td>\n",
       "      <td>...</td>\n",
       "      <td>...</td>\n",
       "      <td>...</td>\n",
       "      <td>...</td>\n",
       "      <td>...</td>\n",
       "    </tr>\n",
       "    <tr>\n",
       "      <th>14556</th>\n",
       "      <td>ZOMA2</td>\n",
       "      <td>NaN</td>\n",
       "      <td>Zoysia matrella (L.) Merr.</td>\n",
       "      <td>Manila grass</td>\n",
       "      <td>Poaceae</td>\n",
       "      <td>Alabama</td>\n",
       "    </tr>\n",
       "    <tr>\n",
       "      <th>14557</th>\n",
       "      <td>ZOMAM</td>\n",
       "      <td>NaN</td>\n",
       "      <td>Zoysia matrella (L.) Merr. var. matrella</td>\n",
       "      <td>Manila grass</td>\n",
       "      <td>Poaceae</td>\n",
       "      <td>Alabama</td>\n",
       "    </tr>\n",
       "    <tr>\n",
       "      <th>14558</th>\n",
       "      <td>ZOMAM</td>\n",
       "      <td>AGMA9</td>\n",
       "      <td>Agrostis matrella L.</td>\n",
       "      <td>NaN</td>\n",
       "      <td>Poaceae</td>\n",
       "      <td>Alabama</td>\n",
       "    </tr>\n",
       "    <tr>\n",
       "      <th>14559</th>\n",
       "      <td>ZORNI</td>\n",
       "      <td>NaN</td>\n",
       "      <td>Zornia J.F. Gmel.</td>\n",
       "      <td>zornia</td>\n",
       "      <td>Fabaceae</td>\n",
       "      <td>Alabama</td>\n",
       "    </tr>\n",
       "    <tr>\n",
       "      <th>14560</th>\n",
       "      <td>ZOYSI</td>\n",
       "      <td>NaN</td>\n",
       "      <td>Zoysia Willd.</td>\n",
       "      <td>lawngrass</td>\n",
       "      <td>Poaceae</td>\n",
       "      <td>Alabama</td>\n",
       "    </tr>\n",
       "  </tbody>\n",
       "</table>\n",
       "<p>14561 rows × 6 columns</p>\n",
       "</div>"
      ],
      "text/plain": [
       "      Symbol Synonym Symbol                Scientific Name with Author  \\\n",
       "0      ABPR3            NaN                       Abrus precatorius L.   \n",
       "1      ABPR3          ABAB2     Abrus abrus (L.) W. Wight, nom. inval.   \n",
       "2      ABRUS            NaN                               Abrus Adans.   \n",
       "3       ABTH            NaN                Abutilon theophrasti Medik.   \n",
       "4       ABTH          ABAB3  Abutilon abutilon (L.) Rusby, nom. inval.   \n",
       "...      ...            ...                                        ...   \n",
       "14556  ZOMA2            NaN                 Zoysia matrella (L.) Merr.   \n",
       "14557  ZOMAM            NaN   Zoysia matrella (L.) Merr. var. matrella   \n",
       "14558  ZOMAM          AGMA9                       Agrostis matrella L.   \n",
       "14559  ZORNI            NaN                          Zornia J.F. Gmel.   \n",
       "14560  ZOYSI            NaN                              Zoysia Willd.   \n",
       "\n",
       "      State Common Name     Family    State  \n",
       "0             rosarypea   Fabaceae  Alabama  \n",
       "1                   NaN   Fabaceae  Alabama  \n",
       "2                 abrus   Fabaceae  Alabama  \n",
       "3            velvetleaf  Malvaceae  Alabama  \n",
       "4                   NaN  Malvaceae  Alabama  \n",
       "...                 ...        ...      ...  \n",
       "14556      Manila grass    Poaceae  Alabama  \n",
       "14557      Manila grass    Poaceae  Alabama  \n",
       "14558               NaN    Poaceae  Alabama  \n",
       "14559            zornia   Fabaceae  Alabama  \n",
       "14560         lawngrass    Poaceae  Alabama  \n",
       "\n",
       "[14561 rows x 6 columns]"
      ]
     },
     "execution_count": 10,
     "metadata": {},
     "output_type": "execute_result"
    }
   ],
   "source": [
    "read_file"
   ]
  },
  {
   "cell_type": "code",
   "execution_count": 11,
   "id": "cross-alberta",
   "metadata": {},
   "outputs": [],
   "source": [
    "read_file.to_csv(csv_file, index=None)"
   ]
  }
 ],
 "metadata": {
  "kernelspec": {
   "display_name": "Python 3",
   "language": "python",
   "name": "python3"
  },
  "language_info": {
   "codemirror_mode": {
    "name": "ipython",
    "version": 3
   },
   "file_extension": ".py",
   "mimetype": "text/x-python",
   "name": "python",
   "nbconvert_exporter": "python",
   "pygments_lexer": "ipython3",
   "version": "3.9.12"
  }
 },
 "nbformat": 4,
 "nbformat_minor": 5
}
